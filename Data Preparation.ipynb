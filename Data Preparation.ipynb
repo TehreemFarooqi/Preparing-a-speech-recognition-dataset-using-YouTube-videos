{
  "nbformat": 4,
  "nbformat_minor": 0,
  "metadata": {
    "colab": {
      "name": "Copy of Data Preparation.ipynb",
      "provenance": []
    },
    "kernelspec": {
      "name": "python3",
      "display_name": "Python 3"
    }
  },
  "cells": [
    {
      "cell_type": "markdown",
      "metadata": {
        "id": "7SE_vTOrWr3i"
      },
      "source": [
        "## Installing and importing dependencies"
      ]
    },
    {
      "cell_type": "code",
      "metadata": {
        "id": "CRA9SH0KGQwN"
      },
      "source": [
        "!pip install spleeter\n",
        "!pip install youtube_dl\n",
        "!pip install pydub"
      ],
      "execution_count": null,
      "outputs": []
    },
    {
      "cell_type": "code",
      "metadata": {
        "id": "jfdXsS_BxcLN"
      },
      "source": [
        "import spleeter\n",
        "from __future__ import unicode_literals\n",
        "import youtube_dl\n",
        "from pydub import AudioSegment\n",
        "from pydub.silence import split_on_silence\n",
        "import csv\n",
        "from pathlib import Path\n",
        "from termcolor import colored\n",
        "import os"
      ],
      "execution_count": 11,
      "outputs": []
    },
    {
      "cell_type": "markdown",
      "metadata": {
        "id": "AprmkZEiWxjK"
      },
      "source": [
        "## Function to adjust characteristics of audio"
      ]
    },
    {
      "cell_type": "code",
      "metadata": {
        "id": "OQoX-QD-PYvl"
      },
      "source": [
        "def convert_audio(audio_file):\n",
        "    \"\"\"\n",
        "    Corrects the channels, sample rate, and sample width of the audios.\n",
        "    Replaces the original audio file with the one generated.\n",
        "    \"\"\"\n",
        "    sound = AudioSegment.from_file(audio_file)\n",
        "    sound = sound.set_frame_rate(16000)\n",
        "    sound = sound.set_channels(1)\n",
        "    sound = sound.set_sample_width(2) # 2 corresponds to 16-bit sample width in Pydub\n",
        "    sound.export(audio_file, format =\"wav\")"
      ],
      "execution_count": 2,
      "outputs": []
    },
    {
      "cell_type": "markdown",
      "metadata": {
        "id": "5PxETaAuW5F4"
      },
      "source": [
        "## Some necessary variables"
      ]
    },
    {
      "cell_type": "code",
      "metadata": {
        "id": "GqUmsekEUiUJ"
      },
      "source": [
        "ydl_opts = {\n",
        "    \"format\": \"bestaudio/best\", \n",
        "    \"audio-format\": \"wav\",\n",
        "    \"outtmpl\": \"audio.wav\",        \n",
        "    \"noplaylist\" : True\n",
        "} # customizing the downloaded audio for our needs\n",
        "link_num = 1 # iterates over the links in the TXT file\n",
        "links_file = \"/content/links.txt\" # File containing links to YouTube videos"
      ],
      "execution_count": 3,
      "outputs": []
    },
    {
      "cell_type": "markdown",
      "metadata": {
        "id": "ebV7gJ0DXBnG"
      },
      "source": [
        "## Looping over links and generating audio chunks"
      ]
    },
    {
      "cell_type": "code",
      "metadata": {
        "id": "R0v9CopIZWzW"
      },
      "source": [
        "with open(links_file) as fp:\n",
        "   for link in fp:\n",
        "        print(\"\\nStarting processing for link number \", link_num)\n",
        "\n",
        "        # Step 1: Extract and download the audio\n",
        "        try:\n",
        "            with youtube_dl.YoutubeDL(ydl_opts) as ydl:\n",
        "                ydl.download([link])\n",
        "        except Exception as e:\n",
        "            print(colored(\"Link number {} cannot be downloaded. Exception: {}\".format(link_num, e), 'red'))\n",
        "            continue # continue with the next link in the file\n",
        "        \n",
        "        # Step 2: Separate voice from the audio\n",
        "        !spleeter separate -p spleeter:2stems -o output \"/content/audio.wav\"\n",
        "\n",
        "        # Step 3: Adjust the sampling rate, sample width, and channels\n",
        "        convert_audio(\"/content/output/audio/vocals.wav\")\n",
        "\n",
        "        # Step 4: Split into smaller parts\n",
        "        sound_file = AudioSegment.from_wav(\"/content/output/audio/vocals.wav\")\n",
        "        audio_chunks = split_on_silence(sound_file, \n",
        "            # must be silent for at least half a second\n",
        "            min_silence_len=500,\n",
        "\n",
        "            # consider it silent if quieter than -16 dBFS\n",
        "            silence_thresh=-50\n",
        "        )\n",
        "        print (\"exporting files for link number: \", link_num)\n",
        "        os.mkdir(str(link_num)) # making folder named after link number we are processing\n",
        "        for i, chunk in enumerate(audio_chunks):\n",
        "            out_file = \"{0}/{0}_{1}.wav\".format(link_num, i)\n",
        "            chunk.export(out_file, format=\"wav\")\n",
        "\n",
        "        link_num += 1\n",
        "\n",
        "        # deleting the redundant files gnerated for previous link to save space\n",
        "        !rm -rf /content/output\n",
        "        !rm /content/audio.wav"
      ],
      "execution_count": null,
      "outputs": []
    }
  ]
}